{
  "nbformat": 4,
  "nbformat_minor": 0,
  "metadata": {
    "colab": {
      "provenance": []
    },
    "kernelspec": {
      "name": "python3",
      "display_name": "Python 3"
    },
    "language_info": {
      "name": "python"
    }
  },
  "cells": [
    {
      "cell_type": "markdown",
      "source": [
        "Q1. What is the difference between interpreted and compiled languages?\n",
        "\n",
        "A-> Interpreted: Code runs line-by-line example Python.\n",
        "\n",
        "Compiled: Code is converted to machine code before execution example C++.\n",
        "\n"
      ],
      "metadata": {
        "id": "WKQP5mODNJ66"
      }
    },
    {
      "cell_type": "markdown",
      "source": [
        "Q2, What is exception handling in Python?\n",
        "\n",
        "A->A mechanism to catch and handle errors during program execution using try, except, finally, and else."
      ],
      "metadata": {
        "id": "7OcmJ9jMN-0q"
      }
    },
    {
      "cell_type": "markdown",
      "source": [
        "Q3. What is the purpose of the finally block in exception handling?\n",
        "\n",
        "A-> It runs no matter what, whether an exception occurs or not. Often used for cleanup tasks."
      ],
      "metadata": {
        "id": "mzRxOm9oOPAf"
      }
    },
    {
      "cell_type": "markdown",
      "source": [
        "Q4. What is logging in Python?\n",
        "\n",
        "A-> Used to track events during program execution. Helpful for debugging and monitoring.\n",
        "\n"
      ],
      "metadata": {
        "id": "vlmyBpmuOX63"
      }
    },
    {
      "cell_type": "markdown",
      "source": [
        "Q5.What is the significance of the __del__ method in Python?\n",
        "\n",
        "A-> It's a destructor method, called when an object is about to be destroyed."
      ],
      "metadata": {
        "id": "qnA8-7QkOkCg"
      }
    },
    {
      "cell_type": "markdown",
      "source": [
        "Q6. What is the difference between import and from ... import in Python?\n",
        "\n",
        "A-> import module: Access using module.function().\n",
        "\n",
        "from module import function: Use function directly without module prefix."
      ],
      "metadata": {
        "id": "5fCMIaaxOuf2"
      }
    },
    {
      "cell_type": "markdown",
      "source": [
        "Q7.  How can you handle multiple exceptions in Python?\n",
        "\n",
        "A-> Use multiple except blocks or combine using a tuple:\n",
        "eg.\n",
        "except (ValueError, TypeError):\n",
        "    pass"
      ],
      "metadata": {
        "id": "0UoFRgU_O8AX"
      }
    },
    {
      "cell_type": "markdown",
      "source": [
        "Q8. What is the purpose of the with statement when handling files in Python?\n",
        "\n",
        "A-> Ensures proper resource management. Automatically closes the file after operations."
      ],
      "metadata": {
        "id": "G18LY7dqPMBv"
      }
    },
    {
      "cell_type": "markdown",
      "source": [
        "Q9. What is the difference between multithreading and multiprocessing?\n",
        "\n",
        "A-> Multithreading: Multiple threads within one process (best for I/O-bound tasks).\n",
        "\n",
        "Multiprocessing: Multiple processes (best for CPU-bound tasks)."
      ],
      "metadata": {
        "id": "TNsXeuVgPa1r"
      }
    },
    {
      "cell_type": "markdown",
      "source": [
        "Q10.What are the advantages of using logging in a program?\n",
        "\n",
        "A-> Tracks program flow, errors, and behavior. Crucial for debugging and audits"
      ],
      "metadata": {
        "id": "MWqpLJkUPlTm"
      }
    },
    {
      "cell_type": "markdown",
      "source": [
        "Q11.What is memory management in Python?\n",
        "\n",
        "A->Done automatically via reference counting and garbage collection.\n",
        "\n"
      ],
      "metadata": {
        "id": "bIOByVQVPoy6"
      }
    },
    {
      "cell_type": "markdown",
      "source": [
        "Q12.What are the basic steps involved in exception handling in Python?\n",
        "\n",
        "A-> Try block for risky code\n",
        "\n",
        "Except block for handling errors\n",
        "\n",
        "Else (optional) for no-error path\n",
        "\n",
        "Finally (optional) for cleanup"
      ],
      "metadata": {
        "id": "LyO35nIVPqGz"
      }
    },
    {
      "cell_type": "markdown",
      "source": [],
      "metadata": {
        "id": "bIykUdZnPrY7"
      }
    },
    {
      "cell_type": "markdown",
      "source": [
        "Q13.Why is memory management important in Python?\n",
        "\n",
        "A-> Prevents memory leaks and ensures efficient use of system resources."
      ],
      "metadata": {
        "id": "nnAdBbGYPsUK"
      }
    },
    {
      "cell_type": "markdown",
      "source": [
        "Q14.What is the role of try and except in exception handling?\n",
        "\n",
        "A->try: Wrap code that might raise an error.\n",
        "\n",
        "except: Define how to handle specific errors."
      ],
      "metadata": {
        "id": "ytBC_dFePtwT"
      }
    },
    {
      "cell_type": "markdown",
      "source": [
        "Q15. How does Python's garbage collection system work?\n",
        "\n",
        "A-> Automatically deletes unused objects using reference counting and a cyclic garbage collector"
      ],
      "metadata": {
        "id": "4AUsZpWzPu0o"
      }
    },
    {
      "cell_type": "markdown",
      "source": [
        "Q16.What is the purpose of the else block in exception handling?\n",
        "\n",
        "A-> Runs only if no exception occurs in the try block.\n",
        "\n"
      ],
      "metadata": {
        "id": "K2fQU13XPv86"
      }
    },
    {
      "cell_type": "markdown",
      "source": [
        "Q17.What are the common logging levels in Python?\n",
        "\n",
        "A-> DEBUG, INFO, WARNING, ERROR, CRITICAL"
      ],
      "metadata": {
        "id": "uBcsI-WFPxJZ"
      }
    },
    {
      "cell_type": "markdown",
      "source": [
        "Q18.What is the difference between os.fork() and multiprocessing in Python?\n",
        "\n",
        "A-> os.fork(): Unix-only, creates a child process.\n",
        "\n",
        "multiprocessing: Cross-platform, more flexible and safer"
      ],
      "metadata": {
        "id": "F7Q29KARPySu"
      }
    },
    {
      "cell_type": "markdown",
      "source": [
        "Q19. What is the importance of closing a file in Python?\n",
        "\n",
        "A->Releases system resources and avoids data corruption or leaks\n",
        "\n",
        "\n"
      ],
      "metadata": {
        "id": "2NHyT6D6P0Vf"
      }
    },
    {
      "cell_type": "markdown",
      "source": [
        "Q20.What is the difference between file.read() and file.readline() in Python?\n",
        "\n",
        "A-> read(): Reads the whole file as a string.\n",
        "\n",
        "readline(): Reads one line at a time.\n",
        "\n"
      ],
      "metadata": {
        "id": "RU7dH45bP1kR"
      }
    },
    {
      "cell_type": "markdown",
      "source": [
        "Q21.What is the logging module in Python used for?\n",
        "\n",
        "A-> To log messages for debugging, info tracking, and error monitoring"
      ],
      "metadata": {
        "id": "cverkLxjP2dp"
      }
    },
    {
      "cell_type": "markdown",
      "source": [
        "Q22.What is the os module in Python used for in file handling?\n",
        "\n",
        "A-> Perform file and directory operations like create, delete, rename, etc.\n",
        "\n"
      ],
      "metadata": {
        "id": "0Gh4tc2oP3oX"
      }
    },
    {
      "cell_type": "markdown",
      "source": [
        "Q23. What are the challenges associated with memory management in Python?\n",
        "\n",
        "A-> Cyclic references, large data structures, and memory leaks in long-running applications\n",
        "\n"
      ],
      "metadata": {
        "id": "jx2ZYybBP6p3"
      }
    },
    {
      "cell_type": "markdown",
      "source": [
        "Q24.How do you raise an exception manually in Python?\n",
        "\n",
        "A-. raise ValueError(\"Custom error message\")"
      ],
      "metadata": {
        "id": "y_tbbfKtP8_8"
      }
    },
    {
      "cell_type": "markdown",
      "source": [
        "Q25.Why is it important to use multithreading in certain applications?\n",
        "\n",
        "A-> To perform tasks like downloading, file reading, or I/O in parallel for better performance."
      ],
      "metadata": {
        "id": "SNiHVG46P-a-"
      }
    },
    {
      "cell_type": "code",
      "source": [
        "#1  How can you open a file for writing in Python and write a string to it.\n",
        "with open(\"example.txt\", \"w\") as f:\n",
        "    f.write(\"Hello, world!\")"
      ],
      "metadata": {
        "id": "GhIyK6f4SJy6"
      },
      "execution_count": 1,
      "outputs": []
    },
    {
      "cell_type": "code",
      "source": [
        "#2 Write a Python program to read the contents of a file and print each line\n",
        "with open(\"example.txt\", \"r\") as f:\n",
        "    for line in f:\n",
        "        print(line.strip())\n"
      ],
      "metadata": {
        "colab": {
          "base_uri": "https://localhost:8080/"
        },
        "id": "lYMqHzsXe9RQ",
        "outputId": "dca3d48d-2277-4e8b-ce25-eb22caf03b3e"
      },
      "execution_count": 2,
      "outputs": [
        {
          "output_type": "stream",
          "name": "stdout",
          "text": [
            "Hello, world!\n"
          ]
        }
      ]
    },
    {
      "cell_type": "code",
      "source": [
        "# 3 How would you handle a case where the file doesn't exist while trying to open it for reading\n",
        "try:\n",
        "    with open(\"word.txt\", \"r\") as f:\n",
        "        content = f.read()\n",
        "except FileNotFoundError as e:\n",
        "    print(\"File not found.\",e)\n"
      ],
      "metadata": {
        "colab": {
          "base_uri": "https://localhost:8080/"
        },
        "id": "YGZ5Gm2lfElq",
        "outputId": "44e5793d-d88d-4cc4-8429-2476b6375cab"
      },
      "execution_count": 3,
      "outputs": [
        {
          "output_type": "stream",
          "name": "stdout",
          "text": [
            "File not found. [Errno 2] No such file or directory: 'word.txt'\n"
          ]
        }
      ]
    },
    {
      "cell_type": "code",
      "source": [
        "#4 Write a Python script that reads from one file and writes its content to another file\n",
        "with open(\"example.txt\",\"r\") as f:\n",
        "  data=f.read()\n",
        "\n",
        "with open(\"example_copy.txt\",\"w\") as f2:\n",
        "  f2.write(data)"
      ],
      "metadata": {
        "colab": {
          "base_uri": "https://localhost:8080/"
        },
        "id": "BIH77nxyffuC",
        "outputId": "a97983fb-6127-4399-83fb-ca8bc304ed7f"
      },
      "execution_count": 5,
      "outputs": [
        {
          "output_type": "stream",
          "name": "stdout",
          "text": [
            "Hello, world!\n"
          ]
        }
      ]
    },
    {
      "cell_type": "code",
      "source": [
        "# 5 How would you catch and handle division by zero error in Python\n",
        "try:\n",
        "    result = 10 / 0\n",
        "except ZeroDivisionError:\n",
        "    print(\"Cannot divide by zero.\")\n"
      ],
      "metadata": {
        "colab": {
          "base_uri": "https://localhost:8080/"
        },
        "id": "1onfDutNg8f5",
        "outputId": "5c88242e-688f-4b48-effb-341e91ab7199"
      },
      "execution_count": 6,
      "outputs": [
        {
          "output_type": "stream",
          "name": "stdout",
          "text": [
            "Cannot divide by zero.\n"
          ]
        }
      ]
    },
    {
      "cell_type": "code",
      "source": [
        "#6 Write a Python program that logs an error message to a log file when a division by zero exception occurs.\n",
        "import logging\n",
        "\n",
        "logging.basicConfig(filename=\"error.log\", level=logging.ERROR)\n",
        "try:\n",
        "    result = 10 / 0\n",
        "except ZeroDivisionError as e:\n",
        "    logging.error(\"Division by zero error: %s\", e)\n"
      ],
      "metadata": {
        "colab": {
          "base_uri": "https://localhost:8080/"
        },
        "id": "2Q29vQaJhDws",
        "outputId": "72bd190c-b779-42fa-8307-5f1d5d5f367f"
      },
      "execution_count": 9,
      "outputs": [
        {
          "output_type": "stream",
          "name": "stderr",
          "text": [
            "ERROR:root:Division by zero error: division by zero\n"
          ]
        }
      ]
    },
    {
      "cell_type": "code",
      "source": [
        "#7 How do you log information at different levels (INFO, ERROR, WARNING) in Python using the logging module\n",
        "import logging\n",
        "\n",
        "logging.basicConfig(level=logging.DEBUG)\n",
        "\n",
        "logging.info(\"This is an info message.\")\n",
        "logging.warning(\"This is a warning.\")\n",
        "logging.error(\"This is an error.\")\n"
      ],
      "metadata": {
        "colab": {
          "base_uri": "https://localhost:8080/"
        },
        "id": "DOTWe2qVixDT",
        "outputId": "93de8ac7-51b6-4143-b4f2-86b7cfe76961"
      },
      "execution_count": 10,
      "outputs": [
        {
          "output_type": "stream",
          "name": "stderr",
          "text": [
            "WARNING:root:This is a warning.\n",
            "ERROR:root:This is an error.\n"
          ]
        }
      ]
    },
    {
      "cell_type": "code",
      "source": [
        "# 8 Write a program to handle a file opening error using exception handling\n",
        "try:\n",
        "    with open(\"file.txt\", \"r\") as f:\n",
        "        print(f.read())\n",
        "except FileNotFoundError:\n",
        "    print(\"File not found.\")\n"
      ],
      "metadata": {
        "colab": {
          "base_uri": "https://localhost:8080/"
        },
        "id": "ritPwVUZkEZ5",
        "outputId": "42c6a8dc-98ca-4502-bd1c-835301e49727"
      },
      "execution_count": 11,
      "outputs": [
        {
          "output_type": "stream",
          "name": "stdout",
          "text": [
            "File not found.\n"
          ]
        }
      ]
    },
    {
      "cell_type": "code",
      "source": [
        "# 9 How can you read a file line by line and store its content in a list in Python\n",
        "with open(\"example.txt\", \"r\") as f:\n",
        "    lines = f.readlines()\n",
        "print(lines)\n"
      ],
      "metadata": {
        "colab": {
          "base_uri": "https://localhost:8080/"
        },
        "id": "8ZXSGnLDkPEp",
        "outputId": "cc0672f9-2afe-44cc-83cf-86b0494ff466"
      },
      "execution_count": 14,
      "outputs": [
        {
          "output_type": "stream",
          "name": "stdout",
          "text": [
            "['Hello, world!\\n', 'New line appended.']\n"
          ]
        }
      ]
    },
    {
      "cell_type": "code",
      "source": [
        "#  How can you append data to an existing file in Python\n",
        "with open(\"example.txt\", \"a\") as f:\n",
        "    f.write(\"\\nNew line appended.\")\n"
      ],
      "metadata": {
        "id": "OXzHgzm5kZHu"
      },
      "execution_count": 13,
      "outputs": []
    },
    {
      "cell_type": "code",
      "source": [
        "# Write a Python program that uses a try-except block to handle an error when attempting to access a dictionary key that doesn't exist\n",
        "try:\n",
        "    d = {\"name\": \"Alice\"}\n",
        "    print(d[\"age\"])\n",
        "except KeyError:\n",
        "    print(\"Key does not exist.\")\n"
      ],
      "metadata": {
        "colab": {
          "base_uri": "https://localhost:8080/"
        },
        "id": "P5xG1m32kjr4",
        "outputId": "9da12297-3160-48ba-999a-92937cf68cde"
      },
      "execution_count": 15,
      "outputs": [
        {
          "output_type": "stream",
          "name": "stdout",
          "text": [
            "Key does not exist.\n"
          ]
        }
      ]
    },
    {
      "cell_type": "code",
      "source": [
        "#  Write a program that demonstrates using multiple except blocks to handle different types of exceptions\n",
        "try:\n",
        "    val = int(\"abc\")\n",
        "except ValueError:\n",
        "    print(\"ValueError occurred.\")\n",
        "except TypeError:\n",
        "    print(\"TypeError occurred.\")\n"
      ],
      "metadata": {
        "colab": {
          "base_uri": "https://localhost:8080/"
        },
        "id": "RiCUea6Nks23",
        "outputId": "49e1f142-8e9f-469e-d995-70e0a587fb6f"
      },
      "execution_count": 16,
      "outputs": [
        {
          "output_type": "stream",
          "name": "stdout",
          "text": [
            "ValueError occurred.\n"
          ]
        }
      ]
    },
    {
      "cell_type": "code",
      "source": [
        "#  How would you check if a file exists before attempting to read it in Python\n",
        "import os\n",
        "\n",
        "if os.path.exists(\"example.txt\"):\n",
        "    with open(\"example.txt\", \"r\") as f:\n",
        "        print(f.read())\n",
        "else:\n",
        "    print(\"File does not exist.\")\n"
      ],
      "metadata": {
        "colab": {
          "base_uri": "https://localhost:8080/"
        },
        "id": "Xgbyi7zumDy9",
        "outputId": "71fc283b-c34f-4027-9c55-dcc05d5042cd"
      },
      "execution_count": 17,
      "outputs": [
        {
          "output_type": "stream",
          "name": "stdout",
          "text": [
            "Hello, world!\n",
            "New line appended.\n"
          ]
        }
      ]
    },
    {
      "cell_type": "code",
      "source": [
        "# Write a program that uses the logging module to log both informational and error messages\n",
        "import logging\n",
        "\n",
        "logging.basicConfig(filename=\"app.log\", level=logging.DEBUG)\n",
        "logging.info(\"Program started\")\n",
        "try:\n",
        "    10 / 0\n",
        "except ZeroDivisionError:\n",
        "    logging.error(\"Attempted division by zero.\")\n"
      ],
      "metadata": {
        "colab": {
          "base_uri": "https://localhost:8080/"
        },
        "id": "AQE7PEGgmhkz",
        "outputId": "2df56b26-ed8d-40b6-ba36-58b0e8052a9c"
      },
      "execution_count": 18,
      "outputs": [
        {
          "output_type": "stream",
          "name": "stderr",
          "text": [
            "ERROR:root:Attempted division by zero.\n"
          ]
        }
      ]
    },
    {
      "cell_type": "code",
      "source": [
        "# Write a Python program that prints the content of a file and handles the case when the file is empty\n",
        "with open(\"example.txt\", \"r\") as f:\n",
        "    content = f.read()\n",
        "    if not content:\n",
        "        print(\"File is empty.\")\n",
        "    else:\n",
        "        print(content)\n"
      ],
      "metadata": {
        "colab": {
          "base_uri": "https://localhost:8080/"
        },
        "id": "WAuOB_QQm7Jf",
        "outputId": "20585d5d-617c-4f15-dbb1-91b1aa11e9ae"
      },
      "execution_count": 19,
      "outputs": [
        {
          "output_type": "stream",
          "name": "stdout",
          "text": [
            "Hello, world!\n",
            "New line appended.\n"
          ]
        }
      ]
    },
    {
      "cell_type": "code",
      "source": [
        "#  Demonstrate how to use memory profiling to check the memory usage of a small program\n",
        "# Install memory_profiler: pip install memory-profiler\n",
        "\n"
      ],
      "metadata": {
        "id": "ti2qflUunBcU"
      },
      "execution_count": 29,
      "outputs": []
    },
    {
      "cell_type": "code",
      "source": [
        "# Write a Python program to create and write a list of numbers to a file, one number per line\n",
        "numbers = [1, 2, 3, 4, 5]\n",
        "\n",
        "with open(\"numbers.txt\", \"w\") as f:\n",
        "    for number in numbers:\n",
        "        f.write(str(number) + \"\\n\")\n"
      ],
      "metadata": {
        "id": "tCPSOKYVo6jR"
      },
      "execution_count": 21,
      "outputs": []
    },
    {
      "cell_type": "code",
      "source": [
        "# How would you implement a basic logging setup that logs to a file with rotation after 1MB\n",
        "import logging\n",
        "from logging.handlers import RotatingFileHandler\n",
        "\n",
        "handler = RotatingFileHandler(\"mylog.log\", maxBytes=1*1024*1024, backupCount=3)\n",
        "logging.basicConfig(handlers=[handler], level=logging.INFO)\n",
        "\n",
        "logging.info(\"This is a log entry.\")\n"
      ],
      "metadata": {
        "id": "gLAqb1DGpF_Y"
      },
      "execution_count": 22,
      "outputs": []
    },
    {
      "cell_type": "code",
      "source": [
        "#  Write a program that handles both IndexError and KeyError using a try-except block\n",
        "try:\n",
        "    lst = [1, 2, 3]\n",
        "    print(lst[5])\n",
        "    d = {\"a\": 1}\n",
        "    print(d[\"b\"])\n",
        "except IndexError:\n",
        "    print(\"Index error occurred.\")\n",
        "except KeyError:\n",
        "    print(\"Key error occurred.\")\n"
      ],
      "metadata": {
        "colab": {
          "base_uri": "https://localhost:8080/"
        },
        "id": "pkYcTuNbpVDO",
        "outputId": "2102e498-bf60-437c-f213-8b28d22457dd"
      },
      "execution_count": 23,
      "outputs": [
        {
          "output_type": "stream",
          "name": "stdout",
          "text": [
            "Index error occurred.\n"
          ]
        }
      ]
    },
    {
      "cell_type": "code",
      "source": [
        "# How would you open a file and read its contents using a context manager in Python\n",
        "with open(\"example.txt\", \"r\") as f:\n",
        "    print(f.read())\n"
      ],
      "metadata": {
        "colab": {
          "base_uri": "https://localhost:8080/"
        },
        "id": "ID6nLb9DpeGZ",
        "outputId": "409283f6-3971-4825-ae97-e2b2a3914708"
      },
      "execution_count": 24,
      "outputs": [
        {
          "output_type": "stream",
          "name": "stdout",
          "text": [
            "Hello, world!\n",
            "New line appended.\n"
          ]
        }
      ]
    },
    {
      "cell_type": "code",
      "source": [
        "#  Write a Python program that reads a file and prints the number of occurrences of a specific word\n",
        "word_to_find = \"python\"\n",
        "\n",
        "with open(\"example.txt\", \"r\") as f:\n",
        "    content = f.read().lower()\n",
        "    print(f\"Occurrences of '{word_to_find}':\", content.count(word_to_find))\n"
      ],
      "metadata": {
        "colab": {
          "base_uri": "https://localhost:8080/"
        },
        "id": "0TPbyeYZpmGc",
        "outputId": "a9d940aa-8c39-4e20-afdc-97b38ea8a303"
      },
      "execution_count": 25,
      "outputs": [
        {
          "output_type": "stream",
          "name": "stdout",
          "text": [
            "Occurrences of 'python': 0\n"
          ]
        }
      ]
    },
    {
      "cell_type": "code",
      "source": [
        "#  How can you check if a file is empty before attempting to read its contents\n",
        "import os\n",
        "\n",
        "if os.path.exists(\"example.txt\") and os.path.getsize(\"example.txt\") > 0:\n",
        "    with open(\"example.txt\", \"r\") as f:\n",
        "        print(f.read())\n",
        "else:\n",
        "    print(\"File is empty or does not exist.\")\n"
      ],
      "metadata": {
        "colab": {
          "base_uri": "https://localhost:8080/"
        },
        "id": "ZWnbREjKqgzC",
        "outputId": "230808be-6d21-43c9-ed29-8dd31baeadb6"
      },
      "execution_count": 26,
      "outputs": [
        {
          "output_type": "stream",
          "name": "stdout",
          "text": [
            "Hello, world!\n",
            "New line appended.\n"
          ]
        }
      ]
    },
    {
      "cell_type": "code",
      "source": [
        "# Write a Python program that writes to a log file when an error occurs during file handling\n",
        "import logging\n",
        "\n",
        "logging.basicConfig(filename=\"file_errors.log\", level=logging.ERROR)\n",
        "\n",
        "try:\n",
        "    with open(\"missing.txt\", \"r\") as f:\n",
        "        print(f.read())\n",
        "except FileNotFoundError as e:\n",
        "    logging.error(\"File error: %s\", e)\n"
      ],
      "metadata": {
        "colab": {
          "base_uri": "https://localhost:8080/"
        },
        "id": "fn23JvlcqoID",
        "outputId": "11dc5143-837c-4ee7-c8ea-5322e0297f03"
      },
      "execution_count": 28,
      "outputs": [
        {
          "output_type": "stream",
          "name": "stderr",
          "text": [
            "ERROR:root:File error: [Errno 2] No such file or directory: 'missing.txt'\n"
          ]
        }
      ]
    }
  ]
}